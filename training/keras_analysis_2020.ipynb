{
 "cells": [
  {
   "cell_type": "code",
   "execution_count": 1,
   "id": "130cccdd-0e75-41ee-9f74-8ac17e7a0e76",
   "metadata": {},
   "outputs": [],
   "source": [
    "import pandas as pd\n",
    "import numpy as np\n",
    "import tensorflow as tf\n",
    "from tensorflow import keras\n",
    "from tensorflow.keras.models import Sequential\n",
    "from tensorflow.keras.layers import Dense\n",
    "import random\n",
    "import matplotlib.pyplot as plt"
   ]
  },
  {
   "cell_type": "code",
   "execution_count": 3,
   "id": "976b13f2-e348-4b42-b264-ea3dd31cfefb",
   "metadata": {},
   "outputs": [],
   "source": [
    "# Generator for streaming in the train and validation data in chunks of 15000\n",
    "def my_generator(chunks, file):\n",
    "    while True:\n",
    "        for data in pd.read_csv(file, chunksize=chunks):\n",
    "            # Removing NULL values since the count of NULL values is extremely low\n",
    "            data = data[data['Trip Seconds'].notna()]\n",
    "            data = data[data['Trip Miles'].notna()]\n",
    "            data = data[data['Fare'].notna()]\n",
    "            data = data[data['Trip Start Timestamp'].notna()]\n",
    "            # Extracting month from Timestamp\n",
    "            data['month'] = pd.to_datetime(data['Trip Start Timestamp']).dt.month\n",
    "            x = data[['Trip Seconds', 'Trip Miles', 'month']].to_numpy()\n",
    "            y = data['Fare'].to_numpy()\n",
    "            yield x, y"
   ]
  },
  {
   "cell_type": "code",
   "execution_count": 4,
   "id": "2ec92953-ae82-4d0d-b289-dd8b692bf563",
   "metadata": {},
   "outputs": [],
   "source": [
    "# Neural network model with 2 hidden layers using mean absolute error as the loss metric\n",
    "NN_model_2020 = Sequential()\n",
    "\n",
    "# The Input Layer :\n",
    "NN_model_2020.add(Dense(16, kernel_initializer='normal',input_dim = 3, activation='relu'))\n",
    "\n",
    "# The Hidden Layer :\n",
    "NN_model_2020.add(Dense(32, kernel_initializer='normal',activation='relu'))\n",
    "NN_model_2020.add(Dense(32, kernel_initializer='normal',activation='relu'))\n",
    "\n",
    "# The Output Layer :\n",
    "NN_model_2020.add(Dense(1, kernel_initializer='normal',activation='linear'))\n",
    "\n",
    "NN_model_2020.compile(loss='mean_absolute_error', optimizer='adam', metrics=['mae', 'mse'])\n"
   ]
  },
  {
   "cell_type": "code",
   "execution_count": 5,
   "id": "86dcf905-2b23-4d47-9eab-a7923b3f069e",
   "metadata": {},
   "outputs": [
    {
     "name": "stdout",
     "output_type": "stream",
     "text": [
      "Epoch 1/10\n",
      "181/181 - 312s - loss: 6.9550 - mae: 6.9550 - mse: 8176.3867 - val_loss: 5.2074 - val_mae: 5.2074 - val_mse: 8980.7568 - 312s/epoch - 2s/step\n",
      "Epoch 2/10\n",
      "181/181 - 310s - loss: 3.7471 - mae: 3.7471 - mse: 7806.4409 - val_loss: 3.3558 - val_mae: 3.3558 - val_mse: 8803.8047 - 310s/epoch - 2s/step\n",
      "Epoch 3/10\n",
      "181/181 - 308s - loss: 3.2541 - mae: 3.2541 - mse: 7781.6450 - val_loss: 3.3546 - val_mae: 3.3546 - val_mse: 8799.0068 - 308s/epoch - 2s/step\n",
      "Epoch 4/10\n",
      "181/181 - 374s - loss: 3.2492 - mae: 3.2492 - mse: 7798.1470 - val_loss: 3.3265 - val_mae: 3.3265 - val_mse: 8799.1465 - 374s/epoch - 2s/step\n",
      "Epoch 5/10\n",
      "181/181 - 306s - loss: 3.2345 - mae: 3.2345 - mse: 7771.3838 - val_loss: 3.3261 - val_mae: 3.3261 - val_mse: 8800.0234 - 306s/epoch - 2s/step\n",
      "Epoch 6/10\n",
      "181/181 - 308s - loss: 3.2308 - mae: 3.2308 - mse: 7809.5483 - val_loss: 3.3009 - val_mae: 3.3009 - val_mse: 8793.1641 - 308s/epoch - 2s/step\n",
      "Epoch 7/10\n",
      "181/181 - 308s - loss: 3.2120 - mae: 3.2120 - mse: 7782.2573 - val_loss: 3.2891 - val_mae: 3.2891 - val_mse: 8789.1514 - 308s/epoch - 2s/step\n",
      "Epoch 8/10\n",
      "181/181 - 305s - loss: 3.1944 - mae: 3.1944 - mse: 7727.0488 - val_loss: 3.2845 - val_mae: 3.2845 - val_mse: 8784.3262 - 305s/epoch - 2s/step\n",
      "Epoch 9/10\n",
      "181/181 - 306s - loss: 3.1901 - mae: 3.1901 - mse: 7794.2349 - val_loss: 3.2580 - val_mae: 3.2580 - val_mse: 8778.9131 - 306s/epoch - 2s/step\n",
      "Epoch 10/10\n",
      "181/181 - 309s - loss: 3.1751 - mae: 3.1751 - mse: 7778.1875 - val_loss: 3.2632 - val_mae: 3.2632 - val_mse: 8778.7061 - 309s/epoch - 2s/step\n"
     ]
    }
   ],
   "source": [
    "# Lengths of the train and validation data\n",
    "lengths_2020 = [2721749, 584006, 0]\n",
    "train_file = 'train_2020.csv'\n",
    "validation_file = 'validation_2020.csv'\n",
    "chunksize = 15000\n",
    "\n",
    "# Model runs with a generator for both the train and validation sets for 10 epochs\n",
    "history = NN_model_2020.fit(my_generator(chunksize, train_file),\n",
    "          steps_per_epoch=lengths_2020[0]//chunksize,\n",
    "          epochs=10,\n",
    "          verbose=2,\n",
    "          validation_data=my_generator(chunksize, validation_file), \n",
    "          validation_steps = lengths_2020[1]//chunksize\n",
    "            )"
   ]
  },
  {
   "cell_type": "code",
   "execution_count": 6,
   "id": "5c2621ff-e3f0-43e5-8fbe-02b046ed5cdc",
   "metadata": {},
   "outputs": [
    {
     "data": {
      "image/png": "[encoded data removed]",
      "text/plain": [
       "<Figure size 432x288 with 1 Axes>"
      ]
     },
     "metadata": {
      "needs_background": "light"
     },
     "output_type": "display_data"
    },
    {
     "data": {
      "text/plain": [
       "<Figure size 432x288 with 0 Axes>"
      ]
     },
     "metadata": {},
     "output_type": "display_data"
    }
   ],
   "source": [
    "# Plot of loss over each epoch\n",
    "plt.plot(history.history['loss'])\n",
    "plt.plot(history.history['val_loss'])\n",
    "plt.title('Model Loss')\n",
    "plt.ylabel('loss')\n",
    "plt.xlabel('epoch')\n",
    "plt.legend(['Train', 'Valiation'], loc='upper left')\n",
    "plt.show()\n",
    "plt.savefig('2021_loss.png')"
   ]
  },
  {
   "cell_type": "code",
   "execution_count": 7,
   "id": "d89e3c72-accb-4ada-8371-b52b58c16a58",
   "metadata": {},
   "outputs": [],
   "source": [
    "# Loading in test data and isolating four relevant columns\n",
    "test_2021 = pd.read_csv('test_2021.csv')\n",
    "test_2021 = test_2021[test_2021['Trip Seconds'].notna()]\n",
    "test_2021 = test_2021[test_2021['Trip Miles'].notna()]\n",
    "test_2021 = test_2021[test_2021['Fare'].notna()]\n",
    "test_2021 = test_2021[test_2021['Trip Start Timestamp'].notna()]\n",
    "test_2021['month'] = pd.to_datetime(test_2021['Trip Start Timestamp']).dt.month\n",
    "x = test_2021[['Trip Seconds', 'Trip Miles', 'month']]\n",
    "y = test_2021['Fare']\n",
    "\n"
   ]
  },
  {
   "cell_type": "code",
   "execution_count": 9,
   "id": "84f50663-ccc0-4ca6-8e3c-dbe16d3d1269",
   "metadata": {},
   "outputs": [],
   "source": [
    "# Saving model in a H5py format\n",
    "NN_model_2020.save('models/NN_model_2020.h5')"
   ]
  },
  {
   "cell_type": "code",
   "execution_count": 12,
   "id": "707c570f-35f5-4a25-884f-5e80f041d37a",
   "metadata": {
    "collapsed": true,
    "jupyter": {
     "outputs_hidden": true
    },
    "tags": []
   },
   "outputs": [
    {
     "ename": "NameError",
     "evalue": "name 'NN_model_2021' is not defined",
     "output_type": "error",
     "traceback": [
      "\u001b[0;31m---------------------------------------------------------------------------\u001b[0m",
      "\u001b[0;31mNameError\u001b[0m                                 Traceback (most recent call last)",
      "\u001b[0;32m<ipython-input-12-730a6c344666>\u001b[0m in \u001b[0;36m<module>\u001b[0;34m\u001b[0m\n\u001b[1;32m      1\u001b[0m \u001b[0;31m# Predicting values using test set\u001b[0m\u001b[0;34m\u001b[0m\u001b[0;34m\u001b[0m\u001b[0;34m\u001b[0m\u001b[0m\n\u001b[0;32m----> 2\u001b[0;31m \u001b[0mpredictions\u001b[0m \u001b[0;34m=\u001b[0m \u001b[0mNN_model_2021\u001b[0m\u001b[0;34m.\u001b[0m\u001b[0mpredict\u001b[0m\u001b[0;34m(\u001b[0m\u001b[0mx\u001b[0m\u001b[0;34m)\u001b[0m\u001b[0;34m\u001b[0m\u001b[0;34m\u001b[0m\u001b[0m\n\u001b[0m",
      "\u001b[0;31mNameError\u001b[0m: name 'NN_model_2021' is not defined"
     ]
    }
   ],
   "source": [
    "# Predicting values using test set\n",
    "predictions = NN_model_2021.predict(x)"
   ]
  },
  {
   "cell_type": "code",
   "execution_count": 10,
   "id": "476ddb65-7844-41ca-a94b-3315a71147b3",
   "metadata": {},
   "outputs": [
    {
     "name": "stdout",
     "output_type": "stream",
     "text": [
      "12054/12054 [==============================] - 10s 852us/step - loss: 3.4769 - mae: 3.4769 - mse: 4022.8174\n"
     ]
    },
    {
     "data": {
      "text/plain": [
       "[3.4769182205200195, 3.4769182205200195, 4022.8173828125]"
      ]
     },
     "execution_count": 10,
     "metadata": {},
     "output_type": "execute_result"
    }
   ],
   "source": [
    "# Evaluating model using test data\n",
    "NN_model_2020.evaluate(x,y)"
   ]
  },
  {
   "cell_type": "code",
   "execution_count": 11,
   "id": "cb1909b0-11f4-4676-8365-c99cfffa64a6",
   "metadata": {
    "collapsed": true,
    "jupyter": {
     "outputs_hidden": true
    },
    "tags": []
   },
   "outputs": [
    {
     "ename": "NameError",
     "evalue": "name 'predictions' is not defined",
     "output_type": "error",
     "traceback": [
      "\u001b[0;31m---------------------------------------------------------------------------\u001b[0m",
      "\u001b[0;31mNameError\u001b[0m                                 Traceback (most recent call last)",
      "\u001b[0;32m<ipython-input-11-c4c2f1d9c4ee>\u001b[0m in \u001b[0;36m<module>\u001b[0;34m\u001b[0m\n\u001b[1;32m      2\u001b[0m \u001b[0my\u001b[0m \u001b[0;34m=\u001b[0m \u001b[0my\u001b[0m\u001b[0;34m.\u001b[0m\u001b[0mto_numpy\u001b[0m\u001b[0;34m(\u001b[0m\u001b[0;34m)\u001b[0m\u001b[0;34m\u001b[0m\u001b[0;34m\u001b[0m\u001b[0m\n\u001b[1;32m      3\u001b[0m \u001b[0mplt\u001b[0m\u001b[0;34m.\u001b[0m\u001b[0mfigure\u001b[0m\u001b[0;34m(\u001b[0m\u001b[0mfigsize\u001b[0m\u001b[0;34m=\u001b[0m\u001b[0;34m(\u001b[0m\u001b[0;36m10\u001b[0m\u001b[0;34m,\u001b[0m\u001b[0;36m10\u001b[0m\u001b[0;34m)\u001b[0m\u001b[0;34m)\u001b[0m\u001b[0;34m\u001b[0m\u001b[0;34m\u001b[0m\u001b[0m\n\u001b[0;32m----> 4\u001b[0;31m \u001b[0mplt\u001b[0m\u001b[0;34m.\u001b[0m\u001b[0mscatter\u001b[0m\u001b[0;34m(\u001b[0m\u001b[0my\u001b[0m\u001b[0;34m,\u001b[0m \u001b[0mpredictions\u001b[0m\u001b[0;34m,\u001b[0m \u001b[0mc\u001b[0m\u001b[0;34m=\u001b[0m\u001b[0;34m'crimson'\u001b[0m\u001b[0;34m)\u001b[0m\u001b[0;34m\u001b[0m\u001b[0;34m\u001b[0m\u001b[0m\n\u001b[0m\u001b[1;32m      5\u001b[0m \u001b[0;34m\u001b[0m\u001b[0m\n\u001b[1;32m      6\u001b[0m \u001b[0;34m\u001b[0m\u001b[0m\n",
      "\u001b[0;31mNameError\u001b[0m: name 'predictions' is not defined"
     ]
    },
    {
     "data": {
      "text/plain": [
       "<Figure size 720x720 with 0 Axes>"
      ]
     },
     "metadata": {},
     "output_type": "display_data"
    }
   ],
   "source": [
    "# Plot of actual vs predicted values\n",
    "y = y.to_numpy()\n",
    "plt.figure(figsize=(10,10))\n",
    "plt.scatter(y, predictions, c='crimson')\n",
    "\n",
    "\n",
    "p1 = max(max(predictions), max(y))\n",
    "p2 = min(min(predictions), min(y))\n",
    "plt.plot([p1, p2], [p1, p2], 'b-')\n",
    "plt.xlabel('True Values', fontsize=15)\n",
    "plt.ylabel('Predictions', fontsize=15)\n",
    "plt.xlim(0,100)\n",
    "plt.ylim(0,100)\n",
    "plt.show()"
   ]
  }
 ],
 "metadata": {
  "kernelspec": {
   "display_name": "Python 3.8",
   "language": "python",
   "name": "python3"
  },
  "language_info": {
   "codemirror_mode": {
    "name": "ipython",
    "version": 3
   },
   "file_extension": ".py",
   "mimetype": "text/x-python",
   "name": "python",
   "nbconvert_exporter": "python",
   "pygments_lexer": "ipython3",
   "version": "3.8.10"
  }
 },
 "nbformat": 4,
 "nbformat_minor": 5
}
